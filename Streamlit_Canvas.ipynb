{
  "nbformat": 4,
  "nbformat_minor": 0,
  "metadata": {
    "colab": {
      "name": " Streamlit Canvas.ipynb",
      "provenance": [],
      "authorship_tag": "ABX9TyNd2rTQ+M6L4y3HYZgZy0dD",
      "include_colab_link": true
    },
    "kernelspec": {
      "name": "python3",
      "display_name": "Python 3"
    },
    "language_info": {
      "name": "python"
    }
  },
  "cells": [
    {
      "cell_type": "markdown",
      "metadata": {
        "id": "view-in-github",
        "colab_type": "text"
      },
      "source": [
        "<a href=\"https://colab.research.google.com/github/HetviBhattasana/Digit_Recognizer/blob/main/Streamlit_Canvas.ipynb\" target=\"_parent\"><img src=\"https://colab.research.google.com/assets/colab-badge.svg\" alt=\"Open In Colab\"/></a>"
      ]
    },
    {
      "cell_type": "code",
      "metadata": {
        "colab": {
          "base_uri": "https://localhost:8080/"
        },
        "id": "158h2cGVNDPR",
        "outputId": "c78557dd-4095-4fdd-daca-d56ba6cd7664"
      },
      "source": [
        "!pip install streamlit --quiet\n",
        "!pip install pyngrok==4.1.1 --quiet\n",
        "!pip install streamlit-drawable-canvas --quiet\n",
        "from pyngrok import ngrok"
      ],
      "execution_count": 1,
      "outputs": [
        {
          "output_type": "stream",
          "name": "stdout",
          "text": [
            "\u001b[K     |████████████████████████████████| 9.1 MB 6.8 MB/s \n",
            "\u001b[K     |████████████████████████████████| 4.3 MB 48.7 MB/s \n",
            "\u001b[K     |████████████████████████████████| 164 kB 67.4 MB/s \n",
            "\u001b[K     |████████████████████████████████| 78 kB 5.5 MB/s \n",
            "\u001b[K     |████████████████████████████████| 111 kB 62.2 MB/s \n",
            "\u001b[K     |████████████████████████████████| 181 kB 57.7 MB/s \n",
            "\u001b[K     |████████████████████████████████| 232 kB 61.1 MB/s \n",
            "\u001b[K     |████████████████████████████████| 63 kB 2.2 MB/s \n",
            "\u001b[K     |████████████████████████████████| 133 kB 77.1 MB/s \n",
            "\u001b[K     |████████████████████████████████| 132 kB 55.1 MB/s \n",
            "\u001b[K     |████████████████████████████████| 428 kB 61.3 MB/s \n",
            "\u001b[K     |████████████████████████████████| 793 kB 57.6 MB/s \n",
            "\u001b[K     |████████████████████████████████| 381 kB 80.0 MB/s \n",
            "\u001b[K     |████████████████████████████████| 51 kB 8.0 MB/s \n",
            "\u001b[?25h  Building wheel for blinker (setup.py) ... \u001b[?25l\u001b[?25hdone\n",
            "  Building wheel for validators (setup.py) ... \u001b[?25l\u001b[?25hdone\n",
            "\u001b[31mERROR: pip's dependency resolver does not currently take into account all the packages that are installed. This behaviour is the source of the following dependency conflicts.\n",
            "nbclient 0.6.4 requires traitlets>=5.2.2, but you have traitlets 5.1.1 which is incompatible.\n",
            "jupyter-console 5.2.0 requires prompt-toolkit<2.0.0,>=1.0.0, but you have prompt-toolkit 3.0.29 which is incompatible.\n",
            "google-colab 1.0.0 requires ipykernel~=4.10, but you have ipykernel 6.15.0 which is incompatible.\n",
            "google-colab 1.0.0 requires ipython~=5.5.0, but you have ipython 7.34.0 which is incompatible.\n",
            "google-colab 1.0.0 requires tornado~=5.1.0; python_version >= \"3.0\", but you have tornado 6.1 which is incompatible.\u001b[0m\n",
            "  Building wheel for pyngrok (setup.py) ... \u001b[?25l\u001b[?25hdone\n",
            "\u001b[K     |████████████████████████████████| 1.1 MB 8.5 MB/s \n",
            "\u001b[?25h"
          ]
        }
      ]
    },
    {
      "cell_type": "code",
      "metadata": {
        "colab": {
          "base_uri": "https://localhost:8080/"
        },
        "id": "PIH1GXquNc_P",
        "outputId": "e47e6f5a-7372-4d15-dbc6-9cb919114312"
      },
      "source": [
        "%%writefile app.py\n",
        "import streamlit as st\n",
        "from streamlit_drawable_canvas import st_canvas \n",
        "from tensorflow import keras\n",
        "import cv2\n",
        "import numpy as np\n",
        "model = keras.models.load_model('digitrecognizer.hdf5')\n",
        "\n",
        "st.title(\"MNIST Digit Recognizer\")\n",
        "\n",
        "SIZE = 192\n",
        "\n",
        "canvas_result = st_canvas(\n",
        "    fill_color=\"#ffffff\",\n",
        "    stroke_width=10,\n",
        "    stroke_color='#ffffff', \n",
        "    background_color=\"#000000\",\n",
        "    height=150,width=150,\n",
        "    drawing_mode='freedraw',\n",
        "    key=\"canvas\",\n",
        ")\n",
        "\n",
        "if canvas_result.image_data is not None:\n",
        "  img = cv2.resize(canvas_result.image_data.astype('uint8'),(28,28))\n",
        "  image_rescaling = cv2.resize(img, (SIZE,SIZE), interpolation=cv2.INTER_NEAREST)\n",
        "  st.write('Input Image')\n",
        "  st.image(image_rescaling)\n",
        "\n",
        "if st.button('Predict'):\n",
        "  test_x = cv2.cvtColor(img, cv2.COLOR_BGR2GRAY)\n",
        "  pred = model.predict(test_x.reshape(1, 28, 28, 1))\n",
        "  st.write(f'result: {np.argmax(pred[0])}')\n",
        "  st.bar_chart(pred[0])"
      ],
      "execution_count": 2,
      "outputs": [
        {
          "output_type": "stream",
          "name": "stdout",
          "text": [
            "Writing app.py\n"
          ]
        }
      ]
    },
    {
      "cell_type": "code",
      "metadata": {
        "colab": {
          "base_uri": "https://localhost:8080/",
          "height": 54
        },
        "id": "oYaKZ4sONlkx",
        "outputId": "c0ab65ff-300a-4247-a3c0-9033f22b37b5"
      },
      "source": [
        "!nohup streamlit run app.py &\n",
        "url = ngrok.connect(port='8501')\n",
        "url"
      ],
      "execution_count": 3,
      "outputs": [
        {
          "output_type": "stream",
          "name": "stdout",
          "text": [
            "nohup: appending output to 'nohup.out'\n"
          ]
        },
        {
          "output_type": "execute_result",
          "data": {
            "text/plain": [
              "'http://2d33-34-125-52-233.ngrok.io'"
            ],
            "application/vnd.google.colaboratory.intrinsic+json": {
              "type": "string"
            }
          },
          "metadata": {},
          "execution_count": 3
        }
      ]
    },
    {
      "cell_type": "code",
      "metadata": {
        "id": "oyMJYxsQNofl"
      },
      "source": [
        ""
      ],
      "execution_count": null,
      "outputs": []
    }
  ]
}